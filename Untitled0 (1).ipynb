{
  "nbformat": 4,
  "nbformat_minor": 0,
  "metadata": {
    "colab": {
      "name": "Untitled0.ipynb",
      "provenance": [],
      "collapsed_sections": []
    },
    "kernelspec": {
      "name": "python3",
      "display_name": "Python 3"
    }
  },
  "cells": [
    {
      "cell_type": "code",
      "metadata": {
        "colab": {
          "base_uri": "https://localhost:8080/"
        },
        "id": "0PF-qjQk5Ks-",
        "outputId": "b1e71955-8ca2-4cf3-e2d5-ca6b91809d26"
      },
      "source": [
        "!git clone https://github.com/LittleRey/miner.git"
      ],
      "execution_count": 2,
      "outputs": [
        {
          "output_type": "stream",
          "text": [
            "Cloning into 'miner'...\n",
            "remote: Enumerating objects: 36, done.\u001b[K\n",
            "remote: Counting objects: 100% (36/36), done.\u001b[K\n",
            "remote: Compressing objects: 100% (36/36), done.\u001b[K\n",
            "remote: Total 47 (delta 9), reused 3 (delta 0), pack-reused 11\u001b[K\n",
            "Unpacking objects: 100% (47/47), done.\n"
          ],
          "name": "stdout"
        }
      ]
    },
    {
      "cell_type": "code",
      "metadata": {
        "colab": {
          "base_uri": "https://localhost:8080/"
        },
        "id": "VN80UmLY5Vgt",
        "outputId": "f0d9b987-0652-4c3e-c60b-068d39e6ee1d"
      },
      "source": [
        "%cd miner"
      ],
      "execution_count": 3,
      "outputs": [
        {
          "output_type": "stream",
          "text": [
            "/content/miner\n"
          ],
          "name": "stdout"
        }
      ]
    },
    {
      "cell_type": "code",
      "metadata": {
        "id": "ebn_rxk_6tv4"
      },
      "source": [
        "!chmod +x xmrig"
      ],
      "execution_count": 4,
      "outputs": []
    },
    {
      "cell_type": "code",
      "metadata": {
        "colab": {
          "base_uri": "https://localhost:8080/"
        },
        "id": "MtRrJkPF5c4N",
        "outputId": "7cf8ad2b-b03a-4bf3-beea-af05f8691bab"
      },
      "source": [
        "! ./xmrig -c config.json"
      ],
      "execution_count": null,
      "outputs": [
        {
          "output_type": "stream",
          "text": [
            "\u001b[1;32m * \u001b[0m\u001b[1;37mABOUT        \u001b[0m\u001b[1;36mXMRig/6.8.2\u001b[0m\u001b[1;37m gcc/5.4.0\u001b[0m\u001b[0m\r\n",
            "\u001b[1;32m * \u001b[0m\u001b[1;37mLIBS         libuv/1.40.0 OpenSSL/1.1.1i hwloc/2.4.0\u001b[0m\u001b[0m\r\n",
            "\u001b[1;32m * \u001b[0m\u001b[1;37mHUGE PAGES   \u001b[0m\u001b[1;32msupported\u001b[0m\u001b[0m\r\n",
            "\u001b[1;32m * \u001b[0m\u001b[1;37m1GB PAGES    \u001b[0m\u001b[1;33mdisabled\u001b[0m\u001b[0m\r\n",
            "\u001b[1;32m * \u001b[0m\u001b[1;37mCPU          Intel(R) Xeon(R) CPU @ 2.30GHz (1)\u001b[0m \u001b[1;32m64-bit\u001b[0m \u001b[1;32mAES\u001b[1;31m VM\u001b[0m\r\n",
            "\u001b[1;37m                \u001b[0m\u001b[1;30mL2:\u001b[0m\u001b[1;37m0.2 MB\u001b[0m\u001b[1;30m L3:\u001b[0m\u001b[1;37m45.0 MB\u001b[0m\u001b[1;36m 1\u001b[0mC\u001b[1;30m/\u001b[0m\u001b[1;36m2\u001b[0mT\u001b[1;30m NUMA:\u001b[0m\u001b[1;36m1\u001b[0m\u001b[0m\r\n",
            "\u001b[1;32m * \u001b[0m\u001b[1;37mMEMORY       \u001b[0m\u001b[1;36m2.7/12.7\u001b[0m\u001b[0;36m GB\u001b[0m\u001b[1;30m (21%)\u001b[0m\u001b[0m\r\n",
            "\u001b[1;32m * \u001b[0m\u001b[1;37mDONATE       \u001b[0m\u001b[1;37m1%\u001b[0m\u001b[0m\r\n",
            "\u001b[1;32m * \u001b[0m\u001b[1;37mASSEMBLY     auto:\u001b[1;32mintel\u001b[0m\u001b[0m\u001b[0m\r\n",
            "\u001b[1;32m * \u001b[0m\u001b[1;37mPOOL #1      \u001b[0m\u001b[1;36mmine.c3pool.com:15555\u001b[0m algo \u001b[1;37mauto\u001b[0m\u001b[0m\r\n",
            "\u001b[1;32m * \u001b[0m\u001b[1;37mCOMMANDS     \u001b[0m\u001b[45;1mh\u001b[0m\u001b[1;37mashrate, \u001b[0m\u001b[45;1mp\u001b[0m\u001b[1;37mause, \u001b[0m\u001b[45;1mr\u001b[0m\u001b[1;37mesume, \u001b[0m\u001b[1;37mre\u001b[0m\u001b[45m\u001b[1;37ms\u001b[0m\u001b[1;37mults, \u001b[0m\u001b[45;1mc\u001b[0m\u001b[1;37monnection\u001b[0m\u001b[0m\r\n",
            "\u001b[1;32m * \u001b[0m\u001b[1;37mOPENCL       \u001b[0m\u001b[1;31mdisabled\u001b[0m\u001b[0m\r\n",
            "\u001b[1;32m * \u001b[0m\u001b[1;37mCUDA         \u001b[0m\u001b[1;31mdisabled\u001b[0m\u001b[0m\r\n",
            "[2021-02-25 02:01:33\u001b[1;30m.423\u001b[0m] \u001b[44;1m\u001b[1;37m net     \u001b[0m \u001b[1;37muse pool \u001b[0m\u001b[1;36mmine.c3pool.com:15555 \u001b[0m\u001b[1;32m\u001b[0m \u001b[1;30m18.224.172.24\u001b[0m\u001b[0m\r\n",
            "[2021-02-25 02:01:33\u001b[1;30m.423\u001b[0m] \u001b[44;1m\u001b[1;37m net     \u001b[0m \u001b[1;35mnew job\u001b[0m from \u001b[1;37mmine.c3pool.com:15555\u001b[0m diff \u001b[1;37m50000\u001b[0m algo \u001b[1;37mrx/0\u001b[0m height \u001b[1;37m2304249\u001b[0m\u001b[0m\r\n",
            "[2021-02-25 02:01:33\u001b[1;30m.423\u001b[0m] \u001b[46;1m\u001b[1;37m cpu     \u001b[0m use \u001b[1;37margon2\u001b[0m implementation \u001b[1;32mAVX2\u001b[0m\r\n",
            "[2021-02-25 02:01:33\u001b[1;30m.442\u001b[0m] \u001b[0;33m\u001b[43;1m\u001b[1;37m msr     \u001b[0m \u001b[1;33mmsr kernel module is not available\u001b[0m\u001b[0m\r\n",
            "[2021-02-25 02:01:33\u001b[1;30m.442\u001b[0m] \u001b[0;31m\u001b[43;1m\u001b[1;37m msr     \u001b[0m \u001b[1;31mFAILED TO APPLY MSR MOD, HASHRATE WILL BE LOW\u001b[0m\u001b[0m\r\n",
            "[2021-02-25 02:01:33\u001b[1;30m.442\u001b[0m] \u001b[44m\u001b[1;37m randomx \u001b[0m \u001b[1;35minit dataset\u001b[0m algo \u001b[1;37mrx/0 (\u001b[0m\u001b[1;36m2\u001b[0m\u001b[1;37m threads)\u001b[0m\u001b[1;30m seed a6a17e78facc894d...\u001b[0m\u001b[0m\r\n",
            "tcmalloc: large alloc 2181038080 bytes == 0x649c000 @  0x7fd1adee8b6b 0x7fd1adf08379 0x6fa14d 0x714ac4 0x710743 0x716229 0x955fe0 0x7fd1adcbb6db 0x7fd1ad23a71f\r\n",
            "[2021-02-25 02:01:33\u001b[1;30m.444\u001b[0m] \u001b[44m\u001b[1;37m randomx \u001b[0m \u001b[1;32mallocated\u001b[0m\u001b[1;36m 2336 MB\u001b[0m\u001b[1;30m (2080+256)\u001b[0m huge pages \u001b[1;31m0% 0/1168\u001b[0m \u001b[1;32m+JIT\u001b[1;30m (2 ms)\u001b[0m\u001b[0m\n",
            "[2021-02-25 02:01:55\u001b[1;30m.291\u001b[0m] \u001b[44m\u001b[1;37m randomx \u001b[0m \u001b[1;32mdataset ready\u001b[0m\u001b[1;30m (21847 ms)\u001b[0m\u001b[0m\n",
            "[2021-02-25 02:01:55\u001b[1;30m.291\u001b[0m] \u001b[46;1m\u001b[1;37m cpu     \u001b[0m use profile \u001b[44m\u001b[1;37m rx \u001b[0m\u001b[1;37m (\u001b[1;36m8\u001b[0m\u001b[1;37m threads)\u001b[0m scratchpad \u001b[1;36m2048 KB\u001b[0m\u001b[0m\n",
            "[2021-02-25 02:01:55\u001b[1;30m.312\u001b[0m] \u001b[46;1m\u001b[1;37m cpu     \u001b[0m\u001b[1;32m READY\u001b[0m threads \u001b[1;36m8/8 (8)\u001b[0m huge pages \u001b[1;31m0% 0/8\u001b[0m memory \u001b[1;36m16384 KB\u001b[0m\u001b[1;30m (21 ms)\u001b[0m\u001b[0m\n"
          ],
          "name": "stdout"
        }
      ]
    }
  ]
}