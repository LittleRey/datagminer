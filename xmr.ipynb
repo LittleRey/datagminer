!git clone https://github.com/LittleRey/miner.git
!./xmrig -c config.json
